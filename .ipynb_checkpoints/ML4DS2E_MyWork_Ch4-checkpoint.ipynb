{
 "cells": [
  {
   "cell_type": "code",
   "execution_count": 2,
   "id": "1ecfab17-2a80-49c0-9b52-9c91fec6bde7",
   "metadata": {},
   "outputs": [
    {
     "name": "stdout",
     "output_type": "stream",
     "text": [
      "Collecting feather-format\n",
      "  Downloading feather-format-0.4.1.tar.gz (3.2 kB)\n",
      "  Installing build dependencies: started\n",
      "  Installing build dependencies: finished with status 'done'\n",
      "  Getting requirements to build wheel: started\n",
      "  Getting requirements to build wheel: finished with status 'done'\n",
      "  Installing backend dependencies: started\n",
      "  Installing backend dependencies: finished with status 'done'\n",
      "  Preparing metadata (pyproject.toml): started\n",
      "  Preparing metadata (pyproject.toml): finished with status 'done'\n",
      "Collecting pyarrow>=0.4.0 (from feather-format)\n",
      "  Downloading pyarrow-15.0.2-cp39-cp39-win_amd64.whl.metadata (3.1 kB)\n",
      "Requirement already satisfied: numpy<2,>=1.16.6 in c:\\edb\\languagepack\\v2\\python-3.9\\lib\\site-packages (from pyarrow>=0.4.0->feather-format) (1.23.3)\n",
      "Downloading pyarrow-15.0.2-cp39-cp39-win_amd64.whl (24.9 MB)\n",
      "   ---------------------------------------- 24.9/24.9 MB 73.0 MB/s eta 0:00:00\n",
      "Building wheels for collected packages: feather-format\n",
      "  Building wheel for feather-format (pyproject.toml): started\n",
      "  Building wheel for feather-format (pyproject.toml): finished with status 'done'\n",
      "  Created wheel for feather-format: filename=feather_format-0.4.1-py3-none-any.whl size=2453 sha256=1a0a2fb98cd15a0d718cca57353e190e6bf3da25b4c3348d4d436ffce6fe71b9\n",
      "  Stored in directory: c:\\users\\andyw\\appdata\\local\\pip\\cache\\wheels\\e3\\dc\\eb\\3a9468e9322c8284d7a53eab23e7a4bab6f271fff7a5871e2f\n",
      "Successfully built feather-format\n",
      "Installing collected packages: pyarrow, feather-format\n",
      "Successfully installed feather-format-0.4.1 pyarrow-15.0.2\n"
     ]
    }
   ],
   "source": [
    "!pip install feather-format"
   ]
  },
  {
   "cell_type": "code",
   "execution_count": 3,
   "id": "fef6e582-7666-4a87-93c2-4ad05dec4994",
   "metadata": {},
   "outputs": [],
   "source": [
    "import pyarrow.feather as feather"
   ]
  },
  {
   "cell_type": "code",
   "execution_count": 5,
   "id": "40acf6c8-dd79-4715-947e-e84b9c8a04f2",
   "metadata": {},
   "outputs": [
    {
     "name": "stdout",
     "output_type": "stream",
     "text": [
      "C:\\Users\\andyw\n"
     ]
    }
   ],
   "source": [
    "import os\n",
    "notebook_path = os.getcwd()\n",
    "print(notebook_path)"
   ]
  },
  {
   "cell_type": "code",
   "execution_count": 6,
   "id": "d45507b5-b8c0-4758-82c3-6d23ed3b7187",
   "metadata": {},
   "outputs": [
    {
     "data": {
      "text/plain": [
       "'C:\\\\Users\\\\andyw'"
      ]
     },
     "execution_count": 6,
     "metadata": {},
     "output_type": "execute_result"
    }
   ],
   "source": [
    "os.getcwd()"
   ]
  },
  {
   "cell_type": "code",
   "execution_count": 7,
   "id": "2c84e114-145c-42e8-8165-39920b5ffbf6",
   "metadata": {},
   "outputs": [
    {
     "name": "stdout",
     "output_type": "stream",
     "text": [
      "       Month  Passengers\n",
      "0    1949-01         112\n",
      "1    1949-02         118\n",
      "2    1949-03         132\n",
      "3    1949-04         129\n",
      "4    1949-05         121\n",
      "..       ...         ...\n",
      "139  1960-08         606\n",
      "140  1960-09         508\n",
      "141  1960-10         461\n",
      "142  1960-11         390\n",
      "143  1960-12         432\n",
      "\n",
      "[144 rows x 2 columns]\n"
     ]
    }
   ],
   "source": [
    "read_df = feather.read_feather('air_passengers.feather')\n",
    "print(read_df)"
   ]
  },
  {
   "cell_type": "code",
   "execution_count": null,
   "id": "b1610f4c-02f5-4018-9f00-7d7efcc98c39",
   "metadata": {},
   "outputs": [],
   "source": []
  }
 ],
 "metadata": {
  "kernelspec": {
   "display_name": "Python 3 (ipykernel)",
   "language": "python",
   "name": "python3"
  },
  "language_info": {
   "codemirror_mode": {
    "name": "ipython",
    "version": 3
   },
   "file_extension": ".py",
   "mimetype": "text/x-python",
   "name": "python",
   "nbconvert_exporter": "python",
   "pygments_lexer": "ipython3",
   "version": "3.9.5"
  }
 },
 "nbformat": 4,
 "nbformat_minor": 5
}
