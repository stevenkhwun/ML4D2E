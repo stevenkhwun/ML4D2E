{
 "cells": [
  {
   "cell_type": "markdown",
   "metadata": {},
   "source": [
    "# Solving with a Machine Learning Approach"
   ]
  },
  {
   "cell_type": "code",
   "execution_count": 1,
   "metadata": {},
   "outputs": [],
   "source": [
    "import pandas as pd\n",
    "from sklearn.datasets import load_boston\n",
    "from sklearn.model_selection import train_test_split\n",
    "from sklearn.preprocessing import scale\n",
    "\n",
    "boston = load_boston()\n",
    "X = pd.DataFrame(scale(boston.data), \n",
    "                columns = boston.feature_names)\n",
    "y = boston.target\n",
    "\n",
    "X_train, X_test, y_train, y_test = train_test_split(X, y,\n",
    "                            shuffle=True, stratify=X['CHAS']>0,\n",
    "                            test_size=0.2, random_state=42)"
   ]
  },
  {
   "cell_type": "code",
   "execution_count": 2,
   "metadata": {},
   "outputs": [
    {
     "data": {
      "text/plain": [
       "LinearRegression(copy_X=True, fit_intercept=True, n_jobs=None, normalize=False)"
      ]
     },
     "execution_count": 2,
     "metadata": {},
     "output_type": "execute_result"
    }
   ],
   "source": [
    "from sklearn.linear_model import LinearRegression\n",
    "\n",
    "lm = LinearRegression()\n",
    "lm.fit(X_train, y_train)"
   ]
  },
  {
   "cell_type": "code",
   "execution_count": 3,
   "metadata": {},
   "outputs": [
    {
     "name": "stdout",
     "output_type": "stream",
     "text": [
      "train R2: 0.735\n"
     ]
    }
   ],
   "source": [
    "print(f\"train R2: {lm.score(X_train, y_train):0.3}\")"
   ]
  },
  {
   "cell_type": "markdown",
   "metadata": {},
   "source": [
    "## Understanding R Squared"
   ]
  },
  {
   "cell_type": "code",
   "execution_count": 4,
   "metadata": {},
   "outputs": [
    {
     "name": "stdout",
     "output_type": "stream",
     "text": [
      "Computed R2:0.7345817245515912\n"
     ]
    }
   ],
   "source": [
    "import numpy as np\n",
    "\n",
    "mean_y = np.mean(y_train)\n",
    "squared_errors_mean = np.sum((y_train - mean_y)**2)\n",
    "squared_errors_model = np.sum((y_train -\n",
    "                           lm.predict(X_train))**2)\n",
    "R2 = 1 - (squared_errors_model / squared_errors_mean)\n",
    "\n",
    "print (f\"Computed R2:{R2}\")"
   ]
  },
  {
   "cell_type": "code",
   "execution_count": 5,
   "metadata": {},
   "outputs": [
    {
     "name": "stdout",
     "output_type": "stream",
     "text": [
      "['CRIM:-0.6', 'ZN:0.9', 'INDUS:0.2', 'CHAS:0.8', 'NOX:-2.1', 'RM:2.7', 'AGE:0.2', 'DIS:-2.9', 'RAD:2.4', 'TAX:-1.8', 'PTRATIO:-2.2', 'B:1.0', 'LSTAT:-4.0']\n"
     ]
    }
   ],
   "source": [
    "print([feat+':'+str(round(coef, 1)) for feat, coef in \n",
    "       zip(boston.feature_names, lm.coef_)])"
   ]
  },
  {
   "cell_type": "markdown",
   "metadata": {},
   "source": [
    "## Mixing Variables of Different Types"
   ]
  },
  {
   "cell_type": "code",
   "execution_count": 6,
   "metadata": {},
   "outputs": [
    {
     "name": "stdout",
     "output_type": "stream",
     "text": [
      "[[0. 0. 1.]\n",
      " [0. 0. 1.]\n",
      " [0. 1. 0.]\n",
      " [1. 0. 0.]\n",
      " [0. 0. 1.]\n",
      " [1. 0. 0.]\n",
      " [1. 0. 0.]\n",
      " [0. 1. 0.]]\n"
     ]
    }
   ],
   "source": [
    "from sklearn.preprocessing import OneHotEncoder\n",
    "from sklearn.preprocessing import LabelEncoder\n",
    "\n",
    "lbl = LabelEncoder()\n",
    "enc = OneHotEncoder(sparse=False)\n",
    "qualitative = ['red', 'red', 'green', 'blue', \n",
    "               'red', 'blue', 'blue', 'green']\n",
    "labels = lbl.fit_transform(qualitative).reshape(-1, 1)\n",
    "\n",
    "print(enc.fit_transform(labels))"
   ]
  },
  {
   "cell_type": "code",
   "execution_count": 7,
   "metadata": {},
   "outputs": [
    {
     "name": "stdout",
     "output_type": "stream",
     "text": [
      "['blue' 'green' 'red']\n"
     ]
    }
   ],
   "source": [
    "print(lbl.classes_)"
   ]
  },
  {
   "cell_type": "code",
   "execution_count": 8,
   "metadata": {},
   "outputs": [
    {
     "name": "stdout",
     "output_type": "stream",
     "text": [
      "train R2: 0.934\n"
     ]
    }
   ],
   "source": [
    "from sklearn.preprocessing import PolynomialFeatures\n",
    "\n",
    "pf = PolynomialFeatures(degree=2)\n",
    "poly_X_train = pf.fit_transform(X_train)\n",
    "\n",
    "lm = LinearRegression()\n",
    "lm.fit(poly_X_train, y_train)\n",
    "r2 = lm.score(poly_X_train, y_train)\n",
    "\n",
    "print(f\"train R2: {r2:0.3}\")"
   ]
  },
  {
   "cell_type": "code",
   "execution_count": 9,
   "metadata": {},
   "outputs": [
    {
     "name": "stdout",
     "output_type": "stream",
     "text": [
      "test R2: 0.787\n"
     ]
    }
   ],
   "source": [
    "poly_X_test = pf.transform(X_test)\n",
    "r2 = lm.score(poly_X_test, y_test)\n",
    "print(f\"test R2: {r2:0.3}\")"
   ]
  },
  {
   "cell_type": "markdown",
   "metadata": {},
   "source": [
    "# Switching to Probabilities"
   ]
  },
  {
   "cell_type": "code",
   "execution_count": 10,
   "metadata": {},
   "outputs": [
    {
     "name": "stdout",
     "output_type": "stream",
     "text": [
      "0 -> -0.167\n",
      "0 -> +0.0238\n",
      "0 -> +0.214\n",
      "0 -> +0.405\n",
      "1 -> +0.595\n",
      "1 -> +0.786\n",
      "1 -> +0.976\n",
      "1 -> +1.17\n"
     ]
    }
   ],
   "source": [
    "from sklearn.linear_model import LinearRegression\n",
    "import numpy as np\n",
    "\n",
    "y = np.array([0, 0, 0, 0, 1, 1, 1, 1])\n",
    "X = np.array([1, 2, 3, 4, 5, 6, 7, 8]).reshape(8,1)\n",
    "\n",
    "lm = LinearRegression()\n",
    "lm.fit(X, y)\n",
    "preds = lm.predict(X)\n",
    "\n",
    "for y_true, y_pred in zip(y, preds):\n",
    "    print(f\"{y_true} -> {y_pred:+0.3}\")"
   ]
  },
  {
   "cell_type": "code",
   "execution_count": 11,
   "metadata": {},
   "outputs": [
    {
     "name": "stdout",
     "output_type": "stream",
     "text": [
      "In-sample accuracy: 0.963\n",
      "Out-of-sample accuracy: 0.951\n"
     ]
    }
   ],
   "source": [
    "from sklearn.linear_model import LogisticRegression\n",
    "\n",
    "lr = LogisticRegression()\n",
    "lr.fit(X_train, y_train>=35)\n",
    "\n",
    "from sklearn.metrics import accuracy_score\n",
    "in_sample_acc = accuracy_score(y_train>=35, lr.predict(X_train))\n",
    "out_sample_acc = accuracy_score(y_test>=35, lr.predict(X_test))\n",
    "\n",
    "print(f'In-sample accuracy: {in_sample_acc:0.3}')\n",
    "print(f'Out-of-sample accuracy: {out_sample_acc:0.3}')"
   ]
  },
  {
   "cell_type": "code",
   "execution_count": 12,
   "metadata": {},
   "outputs": [
    {
     "name": "stdout",
     "output_type": "stream",
     "text": [
      "CRIM    : +0.337\n",
      "ZN      : -0.0501\n",
      "INDUS   : -0.196\n",
      "CHAS    : -0.0514\n",
      "NOX     : -0.334\n",
      "RM      : +1.3\n",
      "AGE     : +0.201\n",
      "DIS     : -0.682\n",
      "RAD     : +1.19\n",
      "TAX     : -0.254\n",
      "PTRATIO : -0.713\n",
      "B       : +0.269\n",
      "LSTAT   : -2.63\n"
     ]
    }
   ],
   "source": [
    "for var, coef in zip(X_train.columns, lr.coef_[0]):\n",
    "    print(f\"{var:7} : {coef:+0.3}\")"
   ]
  },
  {
   "cell_type": "code",
   "execution_count": 13,
   "metadata": {},
   "outputs": [
    {
     "name": "stdout",
     "output_type": "stream",
     "text": [
      "classes: [False  True]\n",
      "\n",
      "Probs:\n",
      " [[0.98071307 0.01928693]\n",
      " [0.99819753 0.00180247]\n",
      " [0.84429169 0.15570831]]\n"
     ]
    }
   ],
   "source": [
    "print('classes:',lr.classes_)\n",
    "print('\\nProbs:\\n',lr.predict_proba(X_test)[:3,:])"
   ]
  },
  {
   "cell_type": "markdown",
   "metadata": {},
   "source": [
    "## Defining the outcome of features that don’t work together"
   ]
  },
  {
   "cell_type": "code",
   "execution_count": 14,
   "metadata": {},
   "outputs": [],
   "source": [
    "r2_train = list()\n",
    "r2_test = list()\n",
    "\n",
    "for i in range(1, 129):\n",
    "    X_train_extra =  np.column_stack((X_train, np.random.rand(len(X_train), i)))\n",
    "    X_test_extra =  np.column_stack((X_test, np.random.rand(len(X_test), i)))\n",
    "    \n",
    "    lr = LinearRegression()\n",
    "    lr.fit(X_train_extra, y_train)\n",
    "    \n",
    "    r2_train.append(lr.score(X_train_extra, y_train))\n",
    "    r2_test.append(lr.score(X_test_extra, y_test))    "
   ]
  },
  {
   "cell_type": "code",
   "execution_count": 15,
   "metadata": {},
   "outputs": [
    {
     "data": {
      "image/png": "[encoded data removed]",
      "text/plain": [
       "<Figure size 720x480 with 1 Axes>"
      ]
     },
     "metadata": {},
     "output_type": "display_data"
    }
   ],
   "source": [
    "import matplotlib.pyplot as plt\n",
    "\n",
    "fig, ax = plt.subplots(dpi=120)\n",
    "plt.plot(r2_train, label='train')\n",
    "plt.plot(r2_test, label='test')\n",
    "plt.xlabel(\"additional random features\")\n",
    "plt.ylabel(\"R2\")\n",
    "plt.legend(loc=\"lower left\")\n",
    "plt.show()"
   ]
  },
  {
   "cell_type": "markdown",
   "metadata": {},
   "source": [
    "## Solving overfitting by using greedy selection"
   ]
  },
  {
   "cell_type": "code",
   "execution_count": 16,
   "metadata": {},
   "outputs": [
    {
     "data": {
      "text/plain": [
       "RFECV(cv=3,\n",
       "      estimator=LinearRegression(copy_X=True, fit_intercept=True, n_jobs=None,\n",
       "                                 normalize=False),\n",
       "      min_features_to_select=1, n_jobs=None, scoring='r2', step=1, verbose=0)"
      ]
     },
     "execution_count": 16,
     "metadata": {},
     "output_type": "execute_result"
    }
   ],
   "source": [
    "from sklearn.feature_selection import RFECV\n",
    "from sklearn.preprocessing import PolynomialFeatures\n",
    "\n",
    "pf = PolynomialFeatures(degree=2)\n",
    "poly_X_train = pf.fit_transform(X_train)\n",
    "poly_X_test = pf.transform(X_test)\n",
    "\n",
    "selector = RFECV(estimator=LinearRegression(), step=1, cv=3, scoring='r2')\n",
    "\n",
    "selector.fit(poly_X_train, y_train)"
   ]
  },
  {
   "cell_type": "code",
   "execution_count": 17,
   "metadata": {},
   "outputs": [
    {
     "name": "stdout",
     "output_type": "stream",
     "text": [
      "Features reduced to 24 from 105\n"
     ]
    }
   ],
   "source": [
    "n_features = selector.n_features_\n",
    "print(f\"Features reduced to {n_features} from {poly_X_train.shape[1]}\")"
   ]
  },
  {
   "cell_type": "code",
   "execution_count": 18,
   "metadata": {},
   "outputs": [
    {
     "name": "stdout",
     "output_type": "stream",
     "text": [
      "R2 train: 0.877\n"
     ]
    }
   ],
   "source": [
    "r2_train = selector.score(poly_X_train, y_train)\n",
    "print(f\"R2 train: {r2_train:0.3}\")"
   ]
  },
  {
   "cell_type": "code",
   "execution_count": 19,
   "metadata": {},
   "outputs": [
    {
     "name": "stdout",
     "output_type": "stream",
     "text": [
      "R2 test: 0.826\n"
     ]
    }
   ],
   "source": [
    "r2_test = selector.score(poly_X_test, y_test)\n",
    "print(f\"R2 test: {r2_test:0.3}\")"
   ]
  },
  {
   "cell_type": "markdown",
   "metadata": {},
   "source": [
    "## Addressing Overfitting by Regularization"
   ]
  },
  {
   "cell_type": "code",
   "execution_count": 20,
   "metadata": {},
   "outputs": [
    {
     "name": "stdout",
     "output_type": "stream",
     "text": [
      "best alpha is: 0.1\n",
      "test R2: 0.753\n"
     ]
    }
   ],
   "source": [
    "from sklearn.linear_model import RidgeCV\n",
    "\n",
    "l2_lm = RidgeCV(alphas=[0.001, 0.01, 0.1, 1, 10, 100], \n",
    "                normalize=True, cv=5, scoring='r2')\n",
    "l2_lm.fit(X_train, y_train)\n",
    "\n",
    "best_alpha = l2_lm.alpha_\n",
    "r2_test = l2_lm.score(X_test, y_test)\n",
    "\n",
    "print(f\"best alpha is: {best_alpha}\")\n",
    "print(f\"test R2: {r2_test:0.3}\")"
   ]
  },
  {
   "cell_type": "code",
   "execution_count": 21,
   "metadata": {},
   "outputs": [
    {
     "name": "stdout",
     "output_type": "stream",
     "text": [
      "CRIM    : -0.438\n",
      "ZN      : +0.546\n",
      "INDUS   : -0.247\n",
      "CHAS    : +0.886\n",
      "NOX     : -1.32\n",
      "RM      : +2.79\n",
      "AGE     : +0.0356\n",
      "DIS     : -2.09\n",
      "RAD     : +1.02\n",
      "TAX     : -0.718\n",
      "PTRATIO : -1.88\n",
      "B       : +0.943\n",
      "LSTAT   : -3.49\n"
     ]
    }
   ],
   "source": [
    "for var, coef in zip(X_train.columns, l2_lm.coef_):\n",
    "    print(f\"{var:7} : {coef:+0.3}\")"
   ]
  },
  {
   "cell_type": "code",
   "execution_count": 22,
   "metadata": {},
   "outputs": [
    {
     "name": "stdout",
     "output_type": "stream",
     "text": [
      "best alpha is: 0.001\n",
      "test R2: 0.756\n"
     ]
    }
   ],
   "source": [
    "from sklearn.linear_model import LassoCV\n",
    "\n",
    "l1_lm = LassoCV(alphas=[0.001, 0.01, 0.1, 1, 10, 100], \n",
    "                normalize=True, cv=5)\n",
    "l1_lm.fit(X_train, y_train)\n",
    "\n",
    "best_alpha = l1_lm.alpha_\n",
    "r2_test = l1_lm.score(X_test, y_test)\n",
    "\n",
    "print(f\"best alpha is: {best_alpha}\")\n",
    "print(f\"test R2: {r2_test:0.3}\")"
   ]
  },
  {
   "cell_type": "markdown",
   "metadata": {},
   "source": [
    "# Understanding SGD is different"
   ]
  },
  {
   "cell_type": "code",
   "execution_count": 23,
   "metadata": {},
   "outputs": [],
   "source": [
    "from sklearn.linear_model import SGDRegressor\n",
    "\n",
    "SGD = SGDRegressor(penalty='l1',\n",
    "                   learning_rate='invscaling', \n",
    "                   eta0=0.01, power_t=0.25)\n",
    "\n",
    "r2_train = list()\n",
    "r2_test = list()\n",
    "\n",
    "for i in range(30):\n",
    "    for j in range(len(X_train)):    \n",
    "        SGD.partial_fit(X_train.iloc[[j], :], \n",
    "                        y_train[[j]])\n",
    "        \n",
    "    r2_train.append(SGD.score(X_train, y_train))\n",
    "    r2_test.append(SGD.score(X_test, y_test))"
   ]
  },
  {
   "cell_type": "code",
   "execution_count": 24,
   "metadata": {},
   "outputs": [
    {
     "data": {
      "image/png": "[encoded data removed]",
      "text/plain": [
       "<Figure size 720x480 with 1 Axes>"
      ]
     },
     "metadata": {},
     "output_type": "display_data"
    }
   ],
   "source": [
    "import matplotlib.pyplot as plt\n",
    "\n",
    "fig, ax = plt.subplots(dpi=120)\n",
    "plt.plot(r2_train, label='train')\n",
    "plt.plot(r2_test, label='test')\n",
    "plt.xlabel(\"number of iterations\")\n",
    "plt.ylabel(\"R2\")\n",
    "plt.legend()\n",
    "plt.show()"
   ]
  }
 ],
 "metadata": {
  "kernelspec": {
   "display_name": "Python 3",
   "language": "python",
   "name": "python3"
  },
  "language_info": {
   "codemirror_mode": {
    "name": "ipython",
    "version": 3
   },
   "file_extension": ".py",
   "mimetype": "text/x-python",
   "name": "python",
   "nbconvert_exporter": "python",
   "pygments_lexer": "ipython3",
   "version": "3.7.6"
  }
 },
 "nbformat": 4,
 "nbformat_minor": 4
}
