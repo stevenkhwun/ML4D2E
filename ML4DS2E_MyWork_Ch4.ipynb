{
 "cells": [
  {
   "cell_type": "markdown",
   "id": "02b6ff39-932a-4700-9626-3b7be853eb8b",
   "metadata": {},
   "source": [
    "# Reading Apache Arrow archived datasets\n",
    "To make the Apache Arrow-based Feather File Format ([https://arrow.apache.org/docs/python/feather.html]) accessible in Notebook, we need to install the `feather-format` library."
   ]
  },
  {
   "cell_type": "markdown",
   "id": "1ea315ae-b2e7-4201-b152-cab5dcd94f60",
   "metadata": {},
   "source": [
    "We can type the following command in the Anaconda prompt to install the library:\n",
    "```Python\n",
    "conda install feather-format -c conda-forge\n",
    "```\n",
    "Or we can typ the following code in the Jupyter Notebook environment:\n",
    "\n",
    "```Python\n",
    "# Install feather-format library in Jupyter Notebook\n",
    "!pip install feather-format\n",
    "```"
   ]
  },
  {
   "cell_type": "markdown",
   "id": "d1787a56-099e-4337-80a6-ab313204c056",
   "metadata": {},
   "source": [
    "# Importing a feather file format dataset"
   ]
  },
  {
   "cell_type": "code",
   "execution_count": 1,
   "id": "fef6e582-7666-4a87-93c2-4ad05dec4994",
   "metadata": {},
   "outputs": [],
   "source": [
    "import pyarrow.feather as feather"
   ]
  },
  {
   "cell_type": "code",
   "execution_count": 2,
   "id": "2c84e114-145c-42e8-8165-39920b5ffbf6",
   "metadata": {},
   "outputs": [
    {
     "name": "stdout",
     "output_type": "stream",
     "text": [
      "       Month  Passengers\n",
      "0    1949-01         112\n",
      "1    1949-02         118\n",
      "2    1949-03         132\n",
      "3    1949-04         129\n",
      "4    1949-05         121\n",
      "..       ...         ...\n",
      "139  1960-08         606\n",
      "140  1960-09         508\n",
      "141  1960-10         461\n",
      "142  1960-11         390\n",
      "143  1960-12         432\n",
      "\n",
      "[144 rows x 2 columns]\n"
     ]
    }
   ],
   "source": [
    "read_df = feather.read_feather('air_passengers.feather')\n",
    "print(read_df)"
   ]
  },
  {
   "cell_type": "markdown",
   "id": "a3295274-876a-45e2-9e32-79af2ed2a596",
   "metadata": {},
   "source": [
    "# Display the current working directory"
   ]
  },
  {
   "cell_type": "code",
   "execution_count": 3,
   "id": "b1610f4c-02f5-4018-9f00-7d7efcc98c39",
   "metadata": {},
   "outputs": [
    {
     "name": "stdout",
     "output_type": "stream",
     "text": [
      "C:\\Users\\steve\\GitHub\\ML4D2E\n"
     ]
    }
   ],
   "source": [
    "import os\n",
    "notebook_path = os.getcwd()\n",
    "print(notebook_path)"
   ]
  }
 ],
 "metadata": {
  "kernelspec": {
   "display_name": "Python 3 (ipykernel)",
   "language": "python",
   "name": "python3"
  },
  "language_info": {
   "codemirror_mode": {
    "name": "ipython",
    "version": 3
   },
   "file_extension": ".py",
   "mimetype": "text/x-python",
   "name": "python",
   "nbconvert_exporter": "python",
   "pygments_lexer": "ipython3",
   "version": "3.11.5"
  }
 },
 "nbformat": 4,
 "nbformat_minor": 5
}
