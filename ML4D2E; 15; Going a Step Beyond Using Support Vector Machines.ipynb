{
 "cells": [
  {
   "cell_type": "markdown",
   "metadata": {},
   "source": [
    "## Classifying handwritten digits"
   ]
  },
  {
   "cell_type": "code",
   "execution_count": 1,
   "metadata": {},
   "outputs": [],
   "source": [
    "import numpy as np\n",
    "from sklearn.datasets import load_digits\n",
    "\n",
    "digits = load_digits()\n",
    "X, y = digits.data, digits.target"
   ]
  },
  {
   "cell_type": "code",
   "execution_count": 2,
   "metadata": {},
   "outputs": [],
   "source": [
    "from sklearn.model_selection import train_test_split\n",
    "from sklearn.model_selection import cross_val_score\n",
    "\n",
    "# We keep 20% random examples for test\n",
    "X_train, X_test, y_train, y_test = train_test_split(X,\n",
    "                    y, test_size=0.2, random_state=42)"
   ]
  },
  {
   "cell_type": "code",
   "execution_count": 3,
   "metadata": {},
   "outputs": [],
   "source": [
    "from sklearn.preprocessing import MinMaxScaler\n",
    "from sklearn.pipeline import make_pipeline\n",
    "from sklearn.svm import SVC\n",
    "\n",
    "svm = make_pipeline(MinMaxScaler(feature_range=(-1, 1)),\n",
    "                    SVC(gamma='auto'))"
   ]
  },
  {
   "cell_type": "code",
   "execution_count": 4,
   "metadata": {},
   "outputs": [
    {
     "name": "stdout",
     "output_type": "stream",
     "text": [
      "Cross-validation accuracy: 0.9847\n",
      "Test accuracy: 0.9806\n"
     ]
    }
   ],
   "source": [
    "cv_acc = cross_val_score(svm, X_train, y_train, cv=10)\n",
    "test_acc = (svm.fit(X_train, y_train)\n",
    "                       .score(X_test, y_test))\n",
    "print(f'Cross-validation accuracy: {np.mean(cv_acc):0.4f}') \n",
    "print(f'Test accuracy: {test_acc:0.4f}')"
   ]
  },
  {
   "cell_type": "code",
   "execution_count": 5,
   "metadata": {},
   "outputs": [
    {
     "name": "stdout",
     "output_type": "stream",
     "text": [
      "Best parameter: {'svc__C': 10.0, 'svc__gamma': 0.01, 'svc__kernel': 'rbf'}\n",
      "Cross-validation accuracy: 0.9889\n",
      "Test accuracy: 0.9861\n"
     ]
    }
   ],
   "source": [
    "from sklearn.model_selection import GridSearchCV\n",
    "search_space = [{'svc__kernel': ['linear'], \n",
    "                 'svc__C': np.logspace(-3, 3, 7)},\n",
    "                {'svc__kernel': ['rbf'], \n",
    "                 'svc__C':np.logspace(-3, 3, 7), \n",
    "                 'svc__gamma': np.logspace(-3, 2, 6)}]\n",
    "gridsearch = GridSearchCV(svm, \n",
    "                          param_grid=search_space, \n",
    "                          refit=True, cv=10, n_jobs=-2)\n",
    "gridsearch.fit(X_train, y_train)\n",
    "print(f'Best parameter: {gridsearch.best_params_}')\n",
    "cv_acc = gridsearch.best_score_\n",
    "test_acc = gridsearch.score(X_test, y_test)\n",
    "print(f'Cross-validation accuracy: {np.mean(cv_acc):0.4f}') \n",
    "print(f'Test accuracy: {test_acc:0.4f}')"
   ]
  }
 ],
 "metadata": {
  "kernelspec": {
   "display_name": "Python 3",
   "language": "python",
   "name": "python3"
  },
  "language_info": {
   "codemirror_mode": {
    "name": "ipython",
    "version": 3
   },
   "file_extension": ".py",
   "mimetype": "text/x-python",
   "name": "python",
   "nbconvert_exporter": "python",
   "pygments_lexer": "ipython3",
   "version": "3.7.6"
  }
 },
 "nbformat": 4,
 "nbformat_minor": 4
}
